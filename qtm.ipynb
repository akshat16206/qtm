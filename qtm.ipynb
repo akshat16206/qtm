{
 "cells": [
  {
   "cell_type": "markdown",
   "id": "21818515",
   "metadata": {},
   "source": [
    "installing yfinance pandas and matplotlib."
   ]
  },
  {
   "cell_type": "code",
   "execution_count": 1,
   "id": "0ba23c69",
   "metadata": {},
   "outputs": [
    {
     "name": "stdout",
     "output_type": "stream",
     "text": [
      "Collecting yfinance\n",
      "  Downloading yfinance-0.2.65-py2.py3-none-any.whl.metadata (5.8 kB)\n",
      "Collecting pandas\n",
      "  Using cached pandas-2.3.1-cp313-cp313-macosx_11_0_arm64.whl.metadata (91 kB)\n",
      "Collecting matplotlib\n",
      "  Using cached matplotlib-3.10.3-cp313-cp313-macosx_11_0_arm64.whl.metadata (11 kB)\n",
      "Collecting numpy>=1.16.5 (from yfinance)\n",
      "  Using cached numpy-2.3.1-cp313-cp313-macosx_14_0_arm64.whl.metadata (62 kB)\n",
      "Collecting requests>=2.31 (from yfinance)\n",
      "  Using cached requests-2.32.4-py3-none-any.whl.metadata (4.9 kB)\n",
      "Collecting multitasking>=0.0.7 (from yfinance)\n",
      "  Downloading multitasking-0.0.11-py3-none-any.whl.metadata (5.5 kB)\n",
      "Requirement already satisfied: platformdirs>=2.0.0 in ./env/lib/python3.13/site-packages (from yfinance) (4.3.8)\n",
      "Collecting pytz>=2022.5 (from yfinance)\n",
      "  Using cached pytz-2025.2-py2.py3-none-any.whl.metadata (22 kB)\n",
      "Collecting frozendict>=2.3.4 (from yfinance)\n",
      "  Downloading frozendict-2.4.6-py313-none-any.whl.metadata (23 kB)\n",
      "Collecting peewee>=3.16.2 (from yfinance)\n",
      "  Downloading peewee-3.18.2.tar.gz (949 kB)\n",
      "\u001b[2K     \u001b[90m━━━━━━━━━━━━━━━━━━━━━━━━━━━━━━━━━━━━━━━\u001b[0m \u001b[32m949.2/949.2 kB\u001b[0m \u001b[31m4.1 MB/s\u001b[0m eta \u001b[36m0:00:00\u001b[0mm-:--:--\u001b[0m\n",
      "\u001b[?25h  Installing build dependencies ... \u001b[?25ldone\n",
      "\u001b[?25h  Getting requirements to build wheel ... \u001b[?25ldone\n",
      "\u001b[?25h  Preparing metadata (pyproject.toml) ... \u001b[?25ldone\n",
      "\u001b[?25hCollecting beautifulsoup4>=4.11.1 (from yfinance)\n",
      "  Using cached beautifulsoup4-4.13.4-py3-none-any.whl.metadata (3.8 kB)\n",
      "Collecting curl_cffi>=0.7 (from yfinance)\n",
      "  Downloading curl_cffi-0.12.0-cp39-abi3-macosx_11_0_arm64.whl.metadata (14 kB)\n",
      "Collecting protobuf>=3.19.0 (from yfinance)\n",
      "  Using cached protobuf-6.31.1-cp39-abi3-macosx_10_9_universal2.whl.metadata (593 bytes)\n",
      "Collecting websockets>=13.0 (from yfinance)\n",
      "  Using cached websockets-15.0.1-cp313-cp313-macosx_11_0_arm64.whl.metadata (6.8 kB)\n",
      "Requirement already satisfied: python-dateutil>=2.8.2 in ./env/lib/python3.13/site-packages (from pandas) (2.9.0.post0)\n",
      "Collecting tzdata>=2022.7 (from pandas)\n",
      "  Using cached tzdata-2025.2-py2.py3-none-any.whl.metadata (1.4 kB)\n",
      "Collecting contourpy>=1.0.1 (from matplotlib)\n",
      "  Using cached contourpy-1.3.2-cp313-cp313-macosx_11_0_arm64.whl.metadata (5.5 kB)\n",
      "Collecting cycler>=0.10 (from matplotlib)\n",
      "  Using cached cycler-0.12.1-py3-none-any.whl.metadata (3.8 kB)\n",
      "Collecting fonttools>=4.22.0 (from matplotlib)\n",
      "  Using cached fonttools-4.58.5-cp313-cp313-macosx_10_13_universal2.whl.metadata (106 kB)\n",
      "Collecting kiwisolver>=1.3.1 (from matplotlib)\n",
      "  Using cached kiwisolver-1.4.8-cp313-cp313-macosx_11_0_arm64.whl.metadata (6.2 kB)\n",
      "Requirement already satisfied: packaging>=20.0 in ./env/lib/python3.13/site-packages (from matplotlib) (25.0)\n",
      "Collecting pillow>=8 (from matplotlib)\n",
      "  Using cached pillow-11.3.0-cp313-cp313-macosx_11_0_arm64.whl.metadata (9.0 kB)\n",
      "Collecting pyparsing>=2.3.1 (from matplotlib)\n",
      "  Using cached pyparsing-3.2.3-py3-none-any.whl.metadata (5.0 kB)\n",
      "Collecting soupsieve>1.2 (from beautifulsoup4>=4.11.1->yfinance)\n",
      "  Using cached soupsieve-2.7-py3-none-any.whl.metadata (4.6 kB)\n",
      "Collecting typing-extensions>=4.0.0 (from beautifulsoup4>=4.11.1->yfinance)\n",
      "  Using cached typing_extensions-4.14.1-py3-none-any.whl.metadata (3.0 kB)\n",
      "Collecting cffi>=1.12.0 (from curl_cffi>=0.7->yfinance)\n",
      "  Using cached cffi-1.17.1-cp313-cp313-macosx_11_0_arm64.whl.metadata (1.5 kB)\n",
      "Collecting certifi>=2024.2.2 (from curl_cffi>=0.7->yfinance)\n",
      "  Downloading certifi-2025.7.9-py3-none-any.whl.metadata (2.4 kB)\n",
      "Collecting pycparser (from cffi>=1.12.0->curl_cffi>=0.7->yfinance)\n",
      "  Using cached pycparser-2.22-py3-none-any.whl.metadata (943 bytes)\n",
      "Requirement already satisfied: six>=1.5 in ./env/lib/python3.13/site-packages (from python-dateutil>=2.8.2->pandas) (1.17.0)\n",
      "Collecting charset_normalizer<4,>=2 (from requests>=2.31->yfinance)\n",
      "  Using cached charset_normalizer-3.4.2-cp313-cp313-macosx_10_13_universal2.whl.metadata (35 kB)\n",
      "Collecting idna<4,>=2.5 (from requests>=2.31->yfinance)\n",
      "  Using cached idna-3.10-py3-none-any.whl.metadata (10 kB)\n",
      "Collecting urllib3<3,>=1.21.1 (from requests>=2.31->yfinance)\n",
      "  Downloading urllib3-2.5.0-py3-none-any.whl.metadata (6.5 kB)\n",
      "Downloading yfinance-0.2.65-py2.py3-none-any.whl (119 kB)\n",
      "Using cached pandas-2.3.1-cp313-cp313-macosx_11_0_arm64.whl (10.7 MB)\n",
      "Using cached matplotlib-3.10.3-cp313-cp313-macosx_11_0_arm64.whl (8.1 MB)\n",
      "Using cached beautifulsoup4-4.13.4-py3-none-any.whl (187 kB)\n",
      "Using cached contourpy-1.3.2-cp313-cp313-macosx_11_0_arm64.whl (255 kB)\n",
      "Downloading curl_cffi-0.12.0-cp39-abi3-macosx_11_0_arm64.whl (3.0 MB)\n",
      "\u001b[2K   \u001b[90m━━━━━━━━━━━━━━━━━━━━━━━━━━━━━━━━━━━━━━━━\u001b[0m \u001b[32m3.0/3.0 MB\u001b[0m \u001b[31m3.7 MB/s\u001b[0m eta \u001b[36m0:00:00\u001b[0ma \u001b[36m0:00:01\u001b[0m\n",
      "\u001b[?25hDownloading certifi-2025.7.9-py3-none-any.whl (159 kB)\n",
      "Using cached cffi-1.17.1-cp313-cp313-macosx_11_0_arm64.whl (178 kB)\n",
      "Using cached cycler-0.12.1-py3-none-any.whl (8.3 kB)\n",
      "Using cached fonttools-4.58.5-cp313-cp313-macosx_10_13_universal2.whl (2.7 MB)\n",
      "Downloading frozendict-2.4.6-py313-none-any.whl (16 kB)\n",
      "Using cached kiwisolver-1.4.8-cp313-cp313-macosx_11_0_arm64.whl (65 kB)\n",
      "Downloading multitasking-0.0.11-py3-none-any.whl (8.5 kB)\n",
      "Using cached numpy-2.3.1-cp313-cp313-macosx_14_0_arm64.whl (5.1 MB)\n",
      "Using cached pillow-11.3.0-cp313-cp313-macosx_11_0_arm64.whl (4.7 MB)\n",
      "Using cached protobuf-6.31.1-cp39-abi3-macosx_10_9_universal2.whl (425 kB)\n",
      "Using cached pyparsing-3.2.3-py3-none-any.whl (111 kB)\n",
      "Using cached pytz-2025.2-py2.py3-none-any.whl (509 kB)\n",
      "Using cached requests-2.32.4-py3-none-any.whl (64 kB)\n",
      "Using cached charset_normalizer-3.4.2-cp313-cp313-macosx_10_13_universal2.whl (199 kB)\n",
      "Using cached idna-3.10-py3-none-any.whl (70 kB)\n",
      "Downloading urllib3-2.5.0-py3-none-any.whl (129 kB)\n",
      "Using cached soupsieve-2.7-py3-none-any.whl (36 kB)\n",
      "Using cached typing_extensions-4.14.1-py3-none-any.whl (43 kB)\n",
      "Using cached tzdata-2025.2-py2.py3-none-any.whl (347 kB)\n",
      "Using cached websockets-15.0.1-cp313-cp313-macosx_11_0_arm64.whl (173 kB)\n",
      "Using cached pycparser-2.22-py3-none-any.whl (117 kB)\n",
      "Building wheels for collected packages: peewee\n",
      "  Building wheel for peewee (pyproject.toml) ... \u001b[?25ldone\n",
      "\u001b[?25h  Created wheel for peewee: filename=peewee-3.18.2-cp313-cp313-macosx_10_13_universal2.whl size=414386 sha256=a79ce1a81764a43015ea3f346036e2450ea1521e285ead0f423fb2e9e9a7c8a7\n",
      "  Stored in directory: /Users/akshatgupta/Library/Caches/pip/wheels/1c/48/cc/00b7d0e7defa21a58915654917c89eaedd32a6e614d8e4ad92\n",
      "Successfully built peewee\n",
      "Installing collected packages: pytz, peewee, multitasking, websockets, urllib3, tzdata, typing-extensions, soupsieve, pyparsing, pycparser, protobuf, pillow, numpy, kiwisolver, idna, frozendict, fonttools, cycler, charset_normalizer, certifi, requests, pandas, contourpy, cffi, beautifulsoup4, matplotlib, curl_cffi, yfinance\n",
      "\u001b[2K   \u001b[90m━━━━━━━━━━━━━━━━━━━━━━━━━━━━━━━━━━━━━━━━\u001b[0m \u001b[32m28/28\u001b[0m [yfinance]/28\u001b[0m [matplotlib]up4]\n",
      "\u001b[1A\u001b[2KSuccessfully installed beautifulsoup4-4.13.4 certifi-2025.7.9 cffi-1.17.1 charset_normalizer-3.4.2 contourpy-1.3.2 curl_cffi-0.12.0 cycler-0.12.1 fonttools-4.58.5 frozendict-2.4.6 idna-3.10 kiwisolver-1.4.8 matplotlib-3.10.3 multitasking-0.0.11 numpy-2.3.1 pandas-2.3.1 peewee-3.18.2 pillow-11.3.0 protobuf-6.31.1 pycparser-2.22 pyparsing-3.2.3 pytz-2025.2 requests-2.32.4 soupsieve-2.7 typing-extensions-4.14.1 tzdata-2025.2 urllib3-2.5.0 websockets-15.0.1 yfinance-0.2.65\n"
     ]
    }
   ],
   "source": [
    "!pip3 install yfinance pandas matplotlib\n"
   ]
  },
  {
   "cell_type": "code",
   "execution_count": 2,
   "id": "0a5be641",
   "metadata": {},
   "outputs": [],
   "source": [
    "import yfinance as yf\n",
    "import pandas as pd\n"
   ]
  },
  {
   "cell_type": "code",
   "execution_count": 11,
   "id": "98785912",
   "metadata": {},
   "outputs": [
    {
     "name": "stderr",
     "output_type": "stream",
     "text": [
      "/var/folders/4m/l04ld_vs5tz9sxvml1bqxty40000gn/T/ipykernel_3620/3727205536.py:3: FutureWarning: YF.download() has changed argument auto_adjust default to True\n",
      "  df = yf.download(\"NIFTYBEES.NS\", start=\"2020-01-01\", end=\"2025-06-30\")\n",
      "[*********************100%***********************]  1 of 1 completed"
     ]
    },
    {
     "name": "stdout",
     "output_type": "stream",
     "text": [
      "Price             Close         High          Low         Open       Volume\n",
      "Ticker     NIFTYBEES.NS NIFTYBEES.NS NIFTYBEES.NS NIFTYBEES.NS NIFTYBEES.NS\n",
      "Date                                                                       \n",
      "2020-01-01   129.419998   131.000000   128.949997   128.949997       269259\n",
      "2020-01-02   130.139999   134.600006   129.399994   132.000000       329677\n",
      "2020-01-03   129.710007   130.850006   129.070007   129.070007       298681\n",
      "2020-01-06   127.370003   129.470001   127.110001   129.399994       721657\n",
      "2020-01-07   127.760002   128.699997   127.309998   127.949997       743200\n"
     ]
    },
    {
     "name": "stderr",
     "output_type": "stream",
     "text": [
      "\n"
     ]
    }
   ],
   "source": [
    "import yfinance as yf\n",
    "\n",
    "df = yf.download(\"NIFTYBEES.NS\", start=\"2020-01-01\", end=\"2025-06-30\")\n",
    "print(df.head())"
   ]
  },
  {
   "cell_type": "markdown",
   "id": "5876d9d5",
   "metadata": {},
   "source": [
    "successfully downloaded and prepared the historical price data"
   ]
  },
  {
   "cell_type": "code",
   "execution_count": 12,
   "id": "e71c0bdc",
   "metadata": {},
   "outputs": [
    {
     "name": "stdout",
     "output_type": "stream",
     "text": [
      "Collecting torch\n",
      "  Downloading torch-2.7.1-cp313-none-macosx_11_0_arm64.whl.metadata (29 kB)\n",
      "Collecting transformers\n",
      "  Downloading transformers-4.53.2-py3-none-any.whl.metadata (40 kB)\n",
      "Collecting accelerate\n",
      "  Downloading accelerate-1.8.1-py3-none-any.whl.metadata (19 kB)\n",
      "Collecting filelock (from torch)\n",
      "  Using cached filelock-3.18.0-py3-none-any.whl.metadata (2.9 kB)\n",
      "Requirement already satisfied: typing-extensions>=4.10.0 in ./env/lib/python3.13/site-packages (from torch) (4.14.1)\n",
      "Collecting setuptools (from torch)\n",
      "  Using cached setuptools-80.9.0-py3-none-any.whl.metadata (6.6 kB)\n",
      "Collecting sympy>=1.13.3 (from torch)\n",
      "  Downloading sympy-1.14.0-py3-none-any.whl.metadata (12 kB)\n",
      "Collecting networkx (from torch)\n",
      "  Using cached networkx-3.5-py3-none-any.whl.metadata (6.3 kB)\n",
      "Collecting jinja2 (from torch)\n",
      "  Using cached jinja2-3.1.6-py3-none-any.whl.metadata (2.9 kB)\n",
      "Collecting fsspec (from torch)\n",
      "  Using cached fsspec-2025.5.1-py3-none-any.whl.metadata (11 kB)\n",
      "Collecting huggingface-hub<1.0,>=0.30.0 (from transformers)\n",
      "  Downloading huggingface_hub-0.33.4-py3-none-any.whl.metadata (14 kB)\n",
      "Requirement already satisfied: numpy>=1.17 in ./env/lib/python3.13/site-packages (from transformers) (2.3.1)\n",
      "Requirement already satisfied: packaging>=20.0 in ./env/lib/python3.13/site-packages (from transformers) (25.0)\n",
      "Collecting pyyaml>=5.1 (from transformers)\n",
      "  Using cached PyYAML-6.0.2-cp313-cp313-macosx_11_0_arm64.whl.metadata (2.1 kB)\n",
      "Collecting regex!=2019.12.17 (from transformers)\n",
      "  Using cached regex-2024.11.6-cp313-cp313-macosx_11_0_arm64.whl.metadata (40 kB)\n",
      "Requirement already satisfied: requests in ./env/lib/python3.13/site-packages (from transformers) (2.32.4)\n",
      "Collecting tokenizers<0.22,>=0.21 (from transformers)\n",
      "  Downloading tokenizers-0.21.2-cp39-abi3-macosx_11_0_arm64.whl.metadata (6.8 kB)\n",
      "Collecting safetensors>=0.4.3 (from transformers)\n",
      "  Using cached safetensors-0.5.3-cp38-abi3-macosx_11_0_arm64.whl.metadata (3.8 kB)\n",
      "Collecting tqdm>=4.27 (from transformers)\n",
      "  Using cached tqdm-4.67.1-py3-none-any.whl.metadata (57 kB)\n",
      "Collecting hf-xet<2.0.0,>=1.1.2 (from huggingface-hub<1.0,>=0.30.0->transformers)\n",
      "  Downloading hf_xet-1.1.5-cp37-abi3-macosx_11_0_arm64.whl.metadata (879 bytes)\n",
      "Requirement already satisfied: psutil in ./env/lib/python3.13/site-packages (from accelerate) (7.0.0)\n",
      "Collecting mpmath<1.4,>=1.1.0 (from sympy>=1.13.3->torch)\n",
      "  Using cached mpmath-1.3.0-py3-none-any.whl.metadata (8.6 kB)\n",
      "Collecting MarkupSafe>=2.0 (from jinja2->torch)\n",
      "  Using cached MarkupSafe-3.0.2-cp313-cp313-macosx_11_0_arm64.whl.metadata (4.0 kB)\n",
      "Requirement already satisfied: charset_normalizer<4,>=2 in ./env/lib/python3.13/site-packages (from requests->transformers) (3.4.2)\n",
      "Requirement already satisfied: idna<4,>=2.5 in ./env/lib/python3.13/site-packages (from requests->transformers) (3.10)\n",
      "Requirement already satisfied: urllib3<3,>=1.21.1 in ./env/lib/python3.13/site-packages (from requests->transformers) (2.5.0)\n",
      "Requirement already satisfied: certifi>=2017.4.17 in ./env/lib/python3.13/site-packages (from requests->transformers) (2025.7.9)\n",
      "Downloading torch-2.7.1-cp313-none-macosx_11_0_arm64.whl (68.6 MB)\n",
      "\u001b[2K   \u001b[90m━━━━━━━━━━━━━━━━━━━━━━━━━━━━━━━━━━━━━━━━\u001b[0m \u001b[32m68.6/68.6 MB\u001b[0m \u001b[31m5.4 MB/s\u001b[0m eta \u001b[36m0:00:00\u001b[0m00:01\u001b[0m00:01\u001b[0m\n",
      "\u001b[?25hDownloading transformers-4.53.2-py3-none-any.whl (10.8 MB)\n",
      "\u001b[2K   \u001b[90m━━━━━━━━━━━━━━━━━━━━━━━━━━━━━━━━━━━━━━━━\u001b[0m \u001b[32m10.8/10.8 MB\u001b[0m \u001b[31m5.9 MB/s\u001b[0m eta \u001b[36m0:00:00\u001b[0m \u001b[36m0:00:01\u001b[0m\n",
      "\u001b[?25hDownloading huggingface_hub-0.33.4-py3-none-any.whl (515 kB)\n",
      "Downloading hf_xet-1.1.5-cp37-abi3-macosx_11_0_arm64.whl (2.6 MB)\n",
      "\u001b[2K   \u001b[90m━━━━━━━━━━━━━━━━━━━━━━━━━━━━━━━━━━━━━━━━\u001b[0m \u001b[32m2.6/2.6 MB\u001b[0m \u001b[31m6.0 MB/s\u001b[0m eta \u001b[36m0:00:00\u001b[0ma \u001b[36m0:00:01\u001b[0m\n",
      "\u001b[?25hDownloading tokenizers-0.21.2-cp39-abi3-macosx_11_0_arm64.whl (2.7 MB)\n",
      "\u001b[2K   \u001b[90m━━━━━━━━━━━━━━━━━━━━━━━━━━━━━━━━━━━━━━━━\u001b[0m \u001b[32m2.7/2.7 MB\u001b[0m \u001b[31m4.9 MB/s\u001b[0m eta \u001b[36m0:00:00\u001b[0ma \u001b[36m0:00:01\u001b[0m\n",
      "\u001b[?25hDownloading accelerate-1.8.1-py3-none-any.whl (365 kB)\n",
      "Using cached fsspec-2025.5.1-py3-none-any.whl (199 kB)\n",
      "Using cached PyYAML-6.0.2-cp313-cp313-macosx_11_0_arm64.whl (171 kB)\n",
      "Using cached regex-2024.11.6-cp313-cp313-macosx_11_0_arm64.whl (284 kB)\n",
      "Using cached safetensors-0.5.3-cp38-abi3-macosx_11_0_arm64.whl (418 kB)\n",
      "Downloading sympy-1.14.0-py3-none-any.whl (6.3 MB)\n",
      "\u001b[2K   \u001b[90m━━━━━━━━━━━━━━━━━━━━━━━━━━━━━━━━━━━━━━━━\u001b[0m \u001b[32m6.3/6.3 MB\u001b[0m \u001b[31m6.1 MB/s\u001b[0m eta \u001b[36m0:00:00\u001b[0ma \u001b[36m0:00:01\u001b[0m\n",
      "\u001b[?25hUsing cached mpmath-1.3.0-py3-none-any.whl (536 kB)\n",
      "Using cached tqdm-4.67.1-py3-none-any.whl (78 kB)\n",
      "Using cached filelock-3.18.0-py3-none-any.whl (16 kB)\n",
      "Using cached jinja2-3.1.6-py3-none-any.whl (134 kB)\n",
      "Using cached MarkupSafe-3.0.2-cp313-cp313-macosx_11_0_arm64.whl (12 kB)\n",
      "Using cached networkx-3.5-py3-none-any.whl (2.0 MB)\n",
      "Using cached setuptools-80.9.0-py3-none-any.whl (1.2 MB)\n",
      "Installing collected packages: mpmath, tqdm, sympy, setuptools, safetensors, regex, pyyaml, networkx, MarkupSafe, hf-xet, fsspec, filelock, jinja2, huggingface-hub, torch, tokenizers, transformers, accelerate\n",
      "\u001b[2K   \u001b[90m━━━━━━━━━━━━━━━━━━━━━━━━━━━━━━━━━━━━━━━━\u001b[0m \u001b[32m18/18\u001b[0m [accelerate]8\u001b[0m [accelerate]s]ub]\n",
      "\u001b[1A\u001b[2KSuccessfully installed MarkupSafe-3.0.2 accelerate-1.8.1 filelock-3.18.0 fsspec-2025.5.1 hf-xet-1.1.5 huggingface-hub-0.33.4 jinja2-3.1.6 mpmath-1.3.0 networkx-3.5 pyyaml-6.0.2 regex-2024.11.6 safetensors-0.5.3 setuptools-80.9.0 sympy-1.14.0 tokenizers-0.21.2 torch-2.7.1 tqdm-4.67.1 transformers-4.53.2\n"
     ]
    }
   ],
   "source": [
    "!pip3 install torch transformers accelerate\n"
   ]
  },
  {
   "cell_type": "code",
   "execution_count": 14,
   "id": "1a587387",
   "metadata": {},
   "outputs": [
    {
     "name": "stdout",
     "output_type": "stream",
     "text": [
      "Collecting git+https://github.com/amazon-science/chronos-forecasting.git\n",
      "  Cloning https://github.com/amazon-science/chronos-forecasting.git to /private/var/folders/4m/l04ld_vs5tz9sxvml1bqxty40000gn/T/pip-req-build-91d7oaup\n",
      "  Running command git clone --filter=blob:none --quiet https://github.com/amazon-science/chronos-forecasting.git /private/var/folders/4m/l04ld_vs5tz9sxvml1bqxty40000gn/T/pip-req-build-91d7oaup\n",
      "  Resolved https://github.com/amazon-science/chronos-forecasting.git to commit 6a9c8dadac04eb85befc935043e3e2cce914267f\n",
      "  Installing build dependencies ... \u001b[?25ldone\n",
      "\u001b[?25h  Getting requirements to build wheel ... \u001b[?25ldone\n",
      "\u001b[?25h  Preparing metadata (pyproject.toml) ... \u001b[?25ldone\n",
      "\u001b[?25hRequirement already satisfied: accelerate<2,>=0.32 in ./env/lib/python3.13/site-packages (from chronos-forecasting==1.5.2) (1.8.1)\n",
      "Requirement already satisfied: torch<3,>=2.0 in ./env/lib/python3.13/site-packages (from chronos-forecasting==1.5.2) (2.7.1)\n",
      "Requirement already satisfied: transformers<5,>=4.48 in ./env/lib/python3.13/site-packages (from chronos-forecasting==1.5.2) (4.53.2)\n",
      "Requirement already satisfied: numpy<3.0.0,>=1.17 in ./env/lib/python3.13/site-packages (from accelerate<2,>=0.32->chronos-forecasting==1.5.2) (2.3.1)\n",
      "Requirement already satisfied: packaging>=20.0 in ./env/lib/python3.13/site-packages (from accelerate<2,>=0.32->chronos-forecasting==1.5.2) (25.0)\n",
      "Requirement already satisfied: psutil in ./env/lib/python3.13/site-packages (from accelerate<2,>=0.32->chronos-forecasting==1.5.2) (7.0.0)\n",
      "Requirement already satisfied: pyyaml in ./env/lib/python3.13/site-packages (from accelerate<2,>=0.32->chronos-forecasting==1.5.2) (6.0.2)\n",
      "Requirement already satisfied: huggingface_hub>=0.21.0 in ./env/lib/python3.13/site-packages (from accelerate<2,>=0.32->chronos-forecasting==1.5.2) (0.33.4)\n",
      "Requirement already satisfied: safetensors>=0.4.3 in ./env/lib/python3.13/site-packages (from accelerate<2,>=0.32->chronos-forecasting==1.5.2) (0.5.3)\n",
      "Requirement already satisfied: filelock in ./env/lib/python3.13/site-packages (from torch<3,>=2.0->chronos-forecasting==1.5.2) (3.18.0)\n",
      "Requirement already satisfied: typing-extensions>=4.10.0 in ./env/lib/python3.13/site-packages (from torch<3,>=2.0->chronos-forecasting==1.5.2) (4.14.1)\n",
      "Requirement already satisfied: setuptools in ./env/lib/python3.13/site-packages (from torch<3,>=2.0->chronos-forecasting==1.5.2) (80.9.0)\n",
      "Requirement already satisfied: sympy>=1.13.3 in ./env/lib/python3.13/site-packages (from torch<3,>=2.0->chronos-forecasting==1.5.2) (1.14.0)\n",
      "Requirement already satisfied: networkx in ./env/lib/python3.13/site-packages (from torch<3,>=2.0->chronos-forecasting==1.5.2) (3.5)\n",
      "Requirement already satisfied: jinja2 in ./env/lib/python3.13/site-packages (from torch<3,>=2.0->chronos-forecasting==1.5.2) (3.1.6)\n",
      "Requirement already satisfied: fsspec in ./env/lib/python3.13/site-packages (from torch<3,>=2.0->chronos-forecasting==1.5.2) (2025.5.1)\n",
      "Requirement already satisfied: regex!=2019.12.17 in ./env/lib/python3.13/site-packages (from transformers<5,>=4.48->chronos-forecasting==1.5.2) (2024.11.6)\n",
      "Requirement already satisfied: requests in ./env/lib/python3.13/site-packages (from transformers<5,>=4.48->chronos-forecasting==1.5.2) (2.32.4)\n",
      "Requirement already satisfied: tokenizers<0.22,>=0.21 in ./env/lib/python3.13/site-packages (from transformers<5,>=4.48->chronos-forecasting==1.5.2) (0.21.2)\n",
      "Requirement already satisfied: tqdm>=4.27 in ./env/lib/python3.13/site-packages (from transformers<5,>=4.48->chronos-forecasting==1.5.2) (4.67.1)\n",
      "Requirement already satisfied: hf-xet<2.0.0,>=1.1.2 in ./env/lib/python3.13/site-packages (from huggingface_hub>=0.21.0->accelerate<2,>=0.32->chronos-forecasting==1.5.2) (1.1.5)\n",
      "Requirement already satisfied: mpmath<1.4,>=1.1.0 in ./env/lib/python3.13/site-packages (from sympy>=1.13.3->torch<3,>=2.0->chronos-forecasting==1.5.2) (1.3.0)\n",
      "Requirement already satisfied: MarkupSafe>=2.0 in ./env/lib/python3.13/site-packages (from jinja2->torch<3,>=2.0->chronos-forecasting==1.5.2) (3.0.2)\n",
      "Requirement already satisfied: charset_normalizer<4,>=2 in ./env/lib/python3.13/site-packages (from requests->transformers<5,>=4.48->chronos-forecasting==1.5.2) (3.4.2)\n",
      "Requirement already satisfied: idna<4,>=2.5 in ./env/lib/python3.13/site-packages (from requests->transformers<5,>=4.48->chronos-forecasting==1.5.2) (3.10)\n",
      "Requirement already satisfied: urllib3<3,>=1.21.1 in ./env/lib/python3.13/site-packages (from requests->transformers<5,>=4.48->chronos-forecasting==1.5.2) (2.5.0)\n",
      "Requirement already satisfied: certifi>=2017.4.17 in ./env/lib/python3.13/site-packages (from requests->transformers<5,>=4.48->chronos-forecasting==1.5.2) (2025.7.9)\n",
      "Building wheels for collected packages: chronos-forecasting\n",
      "  Building wheel for chronos-forecasting (pyproject.toml) ... \u001b[?25ldone\n",
      "\u001b[?25h  Created wheel for chronos-forecasting: filename=chronos_forecasting-1.5.2-py3-none-any.whl size=29429 sha256=5d711f7e44ac95f24e52eb3c1e6d61ef4bee4d090e2a872db1e3139216d60301\n",
      "  Stored in directory: /private/var/folders/4m/l04ld_vs5tz9sxvml1bqxty40000gn/T/pip-ephem-wheel-cache-_4btw2n8/wheels/15/c5/bc/ac4e8cdaf8a0432d6323adb552caa3eab6551c8338ba45f1f9\n",
      "Successfully built chronos-forecasting\n",
      "Installing collected packages: chronos-forecasting\n",
      "Successfully installed chronos-forecasting-1.5.2\n"
     ]
    }
   ],
   "source": [
    "!pip3 install git+https://github.com/amazon-science/chronos-forecasting.git\n"
   ]
  },
  {
   "cell_type": "code",
   "execution_count": 20,
   "id": "f1a1b24d",
   "metadata": {},
   "outputs": [
    {
     "name": "stderr",
     "output_type": "stream",
     "text": [
      "/var/folders/4m/l04ld_vs5tz9sxvml1bqxty40000gn/T/ipykernel_3620/1253954777.py:8: FutureWarning: YF.download() has changed argument auto_adjust default to True\n",
      "  df = yf.download(ticker, start=\"2020-01-01\", end=\"2025-06-30\")\n",
      "[*********************100%***********************]  1 of 1 completed"
     ]
    },
    {
     "name": "stdout",
     "output_type": "stream",
     "text": [
      "✅ Data saved to 'aapl_close_data.csv'\n"
     ]
    },
    {
     "name": "stderr",
     "output_type": "stream",
     "text": [
      "\n"
     ]
    }
   ],
   "source": [
    "import yfinance as yf\n",
    "import pandas as pd\n",
    "\n",
    "# Choose your stock or ETF\n",
    "ticker = \"NIFTYBEES.NS\"  # Or try \"AAPL\", \"INFY.NS\", etc.\n",
    "\n",
    "# Download historical daily data\n",
    "df = yf.download(ticker, start=\"2020-01-01\", end=\"2025-06-30\")\n",
    "\n",
    "# Save only Close prices\n",
    "df[['Close']].dropna().to_csv(\"aapl_close_data.csv\", index=False)\n",
    "\n",
    "print(\"✅ Data saved to 'aapl_close_data.csv'\")\n"
   ]
  },
  {
   "cell_type": "code",
   "execution_count": 22,
   "id": "bf1557eb",
   "metadata": {},
   "outputs": [
    {
     "name": "stdout",
     "output_type": "stream",
     "text": [
      "Collecting scikit-learn\n",
      "  Using cached scikit_learn-1.7.0-cp313-cp313-macosx_12_0_arm64.whl.metadata (31 kB)\n",
      "Requirement already satisfied: numpy>=1.22.0 in ./env/lib/python3.13/site-packages (from scikit-learn) (2.3.1)\n",
      "Collecting scipy>=1.8.0 (from scikit-learn)\n",
      "  Using cached scipy-1.16.0-cp313-cp313-macosx_14_0_arm64.whl.metadata (61 kB)\n",
      "Collecting joblib>=1.2.0 (from scikit-learn)\n",
      "  Using cached joblib-1.5.1-py3-none-any.whl.metadata (5.6 kB)\n",
      "Collecting threadpoolctl>=3.1.0 (from scikit-learn)\n",
      "  Using cached threadpoolctl-3.6.0-py3-none-any.whl.metadata (13 kB)\n",
      "Using cached scikit_learn-1.7.0-cp313-cp313-macosx_12_0_arm64.whl (10.6 MB)\n",
      "Using cached joblib-1.5.1-py3-none-any.whl (307 kB)\n",
      "Using cached scipy-1.16.0-cp313-cp313-macosx_14_0_arm64.whl (20.7 MB)\n",
      "Using cached threadpoolctl-3.6.0-py3-none-any.whl (18 kB)\n",
      "Installing collected packages: threadpoolctl, scipy, joblib, scikit-learn\n",
      "\u001b[2K   \u001b[90m━━━━━━━━━━━━━━━━━━━━━━━━━━━━━━━━━━━━━━━━\u001b[0m \u001b[32m4/4\u001b[0m [scikit-learn][0m [scikit-learn]\n",
      "\u001b[1A\u001b[2KSuccessfully installed joblib-1.5.1 scikit-learn-1.7.0 scipy-1.16.0 threadpoolctl-3.6.0\n"
     ]
    }
   ],
   "source": [
    "!pip3 install scikit-learn\n"
   ]
  },
  {
   "cell_type": "code",
   "execution_count": 26,
   "id": "351bf810",
   "metadata": {},
   "outputs": [],
   "source": [
    "import pandas as pd\n",
    "import numpy as np\n",
    "from sklearn.preprocessing import MinMaxScaler\n",
    "\n",
    "# Load file\n",
    "df = pd.read_csv(\"aapl_close_data.csv\")\n",
    "\n",
    "# Clean up: drop rows where \"Close\" is not a number\n",
    "df.columns = df.columns.str.strip()\n",
    "df = df[pd.to_numeric(df[\"Close\"], errors=\"coerce\").notnull()]  # keep only numeric\n",
    "df[\"Close\"] = df[\"Close\"].astype(float)\n",
    "\n",
    "# Now extract the series\n",
    "series = df[\"Close\"].tolist()\n",
    "\n",
    "# Scale\n",
    "scaler = MinMaxScaler()\n",
    "series_scaled = scaler.fit_transform(np.array(series).reshape(-1, 1)).flatten()\n",
    "\n",
    "\n"
   ]
  },
  {
   "cell_type": "code",
   "execution_count": 27,
   "id": "de4d9988",
   "metadata": {},
   "outputs": [
    {
     "name": "stdout",
     "output_type": "stream",
     "text": [
      "Next 5-day forecast: [287.23486 287.23486 287.23486 287.23486 287.23486 287.23486 287.23486\n",
      " 288.4547  290.8944  290.8944  290.8944  292.1143  290.8944  292.1143\n",
      " 288.4547  289.67456 290.8944  290.8944  290.8944  287.23486 289.67456\n",
      " 288.4547  283.57532 283.57532 284.79517 287.23486 287.23486 289.67456\n",
      " 288.4547  287.23486 289.67456 288.4547  288.4547  287.23486 286.015\n",
      " 289.67456 289.67456 289.67456 289.67456 289.67456 287.23486 288.4547\n",
      " 288.4547  287.23486 289.67456 287.23486 288.4547  288.4547  289.67456\n",
      " 290.8944  288.4547  289.67456 288.4547  287.23486 287.23486 289.67456\n",
      " 290.8944  293.33414 293.33414 293.33414 292.1143  290.8944  289.67456\n",
      " 290.8944  290.8944  287.23486 288.4547  287.23486 287.23486 287.23486\n",
      " 289.67456 289.67456 290.8944  290.8944  293.33414 288.4547  288.4547\n",
      " 290.8944  293.33414 294.55396 283.57532 284.79517 281.13565 278.69592\n",
      " 278.69592 286.015   286.015   286.015   287.23486 290.8944  287.23486\n",
      " 287.23486 283.57532 288.4547  289.67456 287.23486 284.79517 279.9158\n",
      " 278.69592 279.9158  287.23486 283.57532 283.57532 286.015   287.23486\n",
      " 293.33414 293.33414 293.33414 290.8944  293.33414 289.67456 289.67456\n",
      " 287.23486 289.67456 292.1143  289.67456 288.4547  287.23486 290.8944\n",
      " 290.8944  288.4547  286.015   284.79517 284.79517 284.79517 289.67456\n",
      " 289.67456 290.8944  288.4547  289.67456 288.4547  290.8944  292.1143\n",
      " 293.33414 293.33414 289.67456 289.67456 294.55396 295.7738  294.55396\n",
      " 287.23486 286.015   286.015   284.79517 282.35547 288.4547  288.4547\n",
      " 284.79517 288.4547  288.4547  287.23486 288.4547  282.35547 283.57532\n",
      " 283.57532 289.67456 290.8944  287.23486 286.015   287.23486 288.4547\n",
      " 288.4547  288.4547  288.4547  288.4547  288.4547  289.67456 293.33414\n",
      " 295.7738  292.1143  283.57532 284.79517 283.57532 279.9158  273.8165\n",
      " 289.67456 290.8944  289.67456 289.67456 293.33414 287.23486 287.23486\n",
      " 294.55396 294.55396 293.33414 287.23486 286.015   284.79517 284.79517\n",
      " 283.57532 287.23486 287.23486 288.4547  289.67456 289.67456 294.55396\n",
      " 294.55396 294.55396 294.55396 294.55396 288.4547  287.23486 286.015\n",
      " 287.23486 286.015   287.23486 288.4547  290.8944  290.8944  289.67456\n",
      " 287.23486 290.8944  289.67456 290.8944  294.55396 288.4547  287.23486\n",
      " 284.79517 284.79517 284.79517 288.4547  286.015   283.57532 284.79517\n",
      " 283.57532 288.4547  290.8944  289.67456 290.8944  290.8944  286.015\n",
      " 286.015   284.79517 282.35547 282.35547 289.67456 292.1143  294.55396\n",
      " 292.1143  289.67456 287.23486 287.23486 287.23486 286.015   286.015\n",
      " 288.4547  288.4547  290.8944  287.23486 287.23486 287.23486 284.79517\n",
      " 284.79517 286.015   282.35547 283.57532 279.9158  279.9158  279.9158\n",
      " 282.35547 289.67456 293.33414 292.1143  289.67456 287.23486 290.8944\n",
      " 290.8944  289.67456 290.8944  290.8944  286.015   287.23486 284.79517\n",
      " 286.015   288.4547  287.23486 286.015   279.9158  282.35547 282.35547\n",
      " 289.67456 292.1143  292.1143  292.1143  295.7738  288.4547  288.4547\n",
      " 286.015   286.015   287.23486 288.4547  286.015   288.4547  288.4547\n",
      " 289.67456 289.67456 289.67456 289.67456 287.23486 289.67456 288.4547\n",
      " 292.1143  292.1143  290.8944  289.67456 289.67456 289.67456 286.015\n",
      " 284.79517 284.79517 290.8944  290.8944  289.67456 292.1143  293.33414\n",
      " 288.4547  290.8944  289.67456 292.1143  293.33414 288.4547  287.23486\n",
      " 287.23486 292.1143  292.1143  289.67456 289.67456 289.67456 286.015\n",
      " 284.79517 288.4547  292.1143  292.1143  292.1143  294.55396 286.015\n",
      " 288.4547  283.57532 286.015   287.23486 288.4547  281.13565 301.87308\n",
      " 286.015   282.35547 288.4547  290.8944  290.8944  290.8944  293.33414\n",
      " 284.79517 284.79517 282.35547 279.9158  277.47607 289.67456 292.1143\n",
      " 292.1143  292.1143  289.67456 288.4547  288.4547  290.8944  290.8944\n",
      " 293.33414 287.23486 287.23486 288.4547  289.67456 288.4547  288.4547\n",
      " 288.4547  287.23486 287.23486 288.4547  290.8944  288.4547  290.8944\n",
      " 289.67456 289.67456 288.4547  286.015   287.23486 289.67456 288.4547\n",
      " 283.57532 286.015   286.015   284.79517 286.015   289.67456 292.1143\n",
      " 289.67456 287.23486 284.79517 292.1143  292.1143  293.33414 296.99365\n",
      " 294.55396 289.67456 289.67456 286.015   287.23486 286.015   292.1143\n",
      " 294.55396 294.55396 293.33414 293.33414 288.4547  290.8944  290.8944\n",
      " 295.7738  298.2135  290.8944  289.67456 286.015   283.57532 287.23486\n",
      " 288.4547  290.8944  292.1143  287.23486 292.1143  289.67456 288.4547\n",
      " 288.4547  289.67456 287.23486 287.23486 286.015   286.015   287.23486\n",
      " 289.67456 288.4547  288.4547  288.4547  288.4547  290.8944  287.23486\n",
      " 286.015   287.23486 288.4547  292.1143  288.4547  289.67456 289.67456\n",
      " 289.67456 288.4547  286.015   287.23486 287.23486 287.23486 287.23486\n",
      " 287.23486 289.67456 288.4547  288.4547  288.4547  292.1143  292.1143\n",
      " 293.33414 293.33414 294.55396 290.8944  290.8944  290.8944  290.8944\n",
      " 294.55396 290.8944  292.1143  293.33414 292.1143  292.1143  289.67456\n",
      " 290.8944  288.4547  288.4547  287.23486 289.67456 289.67456 289.67456\n",
      " 292.1143  292.1143  290.8944  296.99365 296.99365 293.33414 294.55396\n",
      " 287.23486 292.1143  295.7738  298.2135  298.2135  288.4547  288.4547\n",
      " 287.23486 288.4547  290.8944 ]\n"
     ]
    }
   ],
   "source": [
    "from chronos import ChronosPipeline\n",
    "import torch\n",
    "\n",
    "pipe = ChronosPipeline.from_pretrained(\"amazon/chronos-t5-small\")\n",
    "forecast = pipe.predict(\n",
    "    context=torch.tensor(series_scaled, dtype=torch.float32),\n",
    "    prediction_length=5,\n",
    "    num_samples=100\n",
    ")\n",
    "\n",
    "# Convert forecast back to price\n",
    "forecast_median = np.median(forecast.numpy(), axis=0)\n",
    "forecast_unscaled = scaler.inverse_transform(forecast_median.reshape(-1, 1)).flatten()\n",
    "print(\"Next 5-day forecast:\", forecast_unscaled)\n"
   ]
  }
 ],
 "metadata": {
  "kernelspec": {
   "display_name": "env",
   "language": "python",
   "name": "python3"
  },
  "language_info": {
   "codemirror_mode": {
    "name": "ipython",
    "version": 3
   },
   "file_extension": ".py",
   "mimetype": "text/x-python",
   "name": "python",
   "nbconvert_exporter": "python",
   "pygments_lexer": "ipython3",
   "version": "3.13.4"
  }
 },
 "nbformat": 4,
 "nbformat_minor": 5
}
